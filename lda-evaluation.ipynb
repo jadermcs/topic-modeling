{
 "cells": [
  {
   "cell_type": "code",
   "execution_count": 1,
   "id": "55400697",
   "metadata": {},
   "outputs": [],
   "source": [
    "import os"
   ]
  },
  {
   "cell_type": "code",
   "execution_count": 3,
   "id": "e1228bac",
   "metadata": {},
   "outputs": [
    {
     "data": {
      "text/plain": [
       "['dialogues_pt_015.json',\n",
       " 'dialogues_pt_005.json',\n",
       " 'dialogues_pt_013.json',\n",
       " 'dialogues_pt_014.json',\n",
       " 'dialogues_pt_017.json',\n",
       " 'dialogues_pt_003.json',\n",
       " 'dialogues_pt_008.json',\n",
       " 'dialogues_pt_012.json',\n",
       " 'dialogues_pt_006.json',\n",
       " 'dialogues_pt_007.json',\n",
       " 'dialogues_pt_002.json',\n",
       " 'dialogues_pt_004.json',\n",
       " 'dialogues_pt_010.json',\n",
       " 'dialogues_pt_011.json',\n",
       " 'dialogues_pt_009.json',\n",
       " 'dialogues_pt_001.json',\n",
       " 'dialogues_pt_016.json']"
      ]
     },
     "execution_count": 3,
     "metadata": {},
     "output_type": "execute_result"
    }
   ],
   "source": [
    "diags = [x for x in os.listdir(\"data/train/\") if x.startswith(\"dialogues_pt\")]\n",
    "diags"
   ]
  },
  {
   "cell_type": "code",
   "execution_count": null,
   "id": "7afefd94",
   "metadata": {},
   "outputs": [],
   "source": []
  }
 ],
 "metadata": {
  "kernelspec": {
   "display_name": "Python 3",
   "language": "python",
   "name": "python3"
  },
  "language_info": {
   "codemirror_mode": {
    "name": "ipython",
    "version": 3
   },
   "file_extension": ".py",
   "mimetype": "text/x-python",
   "name": "python",
   "nbconvert_exporter": "python",
   "pygments_lexer": "ipython3",
   "version": "3.8.5"
  }
 },
 "nbformat": 4,
 "nbformat_minor": 5
}
